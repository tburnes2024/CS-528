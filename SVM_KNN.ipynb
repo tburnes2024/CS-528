{
 "cells": [
  {
   "cell_type": "markdown",
   "metadata": {
    "id": "ZAoq8_KodLMe"
   },
   "source": [
    "##Notebook created by: Austin Copley (acopley@umass.edu) and Abdul Aziz (abdulaziz@umass.edu) for COMPSCI 528: Ubiquitous and Mobile Computing (Fall 2024)"
   ]
  },
  {
   "cell_type": "code",
   "execution_count": 9,
   "metadata": {
    "id": "kYdzi_jZK5YQ"
   },
   "outputs": [],
   "source": [
    "import os\n",
    "import numpy as np\n",
    "import pandas as pd\n",
    "import seaborn as sns\n",
    "from sklearn.svm import SVC\n",
    "import matplotlib.pyplot as plt\n",
    "from sklearn.preprocessing import StandardScaler\n",
    "from sklearn.neighbors import KNeighborsClassifier\n",
    "from sklearn.metrics import classification_report, accuracy_score, confusion_matrix"
   ]
  },
  {
   "cell_type": "code",
   "execution_count": 10,
   "metadata": {
    "id": "COpVQ-btO-4x"
   },
   "outputs": [],
   "source": [
    "train_labels = pd.read_csv(os.path.join(os.getcwd(), \"train.csv\")) # Update directory\n",
    "val_labels = pd.read_csv(os.path.join(os.getcwd(), \"validate.csv\")) # Update directory\n",
    "\n",
    "train_dir = val_dir = os.path.join(os.getcwd(), \"dataset\") # Update directory"
   ]
  },
  {
   "cell_type": "code",
   "execution_count": 11,
   "metadata": {
    "id": "NHBbK8cyDCuD"
   },
   "outputs": [],
   "source": [
    "# Function to load dataset\n",
    "def load_data(label_df, data_dir):\n",
    "    # Empty lists to store features and labels\n",
    "    features = []\n",
    "    labels = []\n",
    "\n",
    "    for _, row in label_df.iterrows():\n",
    "        filename = os.path.join(data_dir, row['filename'] + \".csv\")\n",
    "\n",
    "        # Read file into pandas dataframe\n",
    "        df = pd.read_csv(filename)\n",
    "\n",
    "        # Keep only accelerometer and gyroscope signals\n",
    "        data = df[['x', 'y']].values.astype(np.float32)\n",
    "\n",
    "        # Normalize data\n",
    "        data = (data - data.min(axis=0) + 1) / (data.max(axis=0) - data.min(axis=0) + 1)\n",
    "\n",
    "        # Populate lists with normalized data and labels\n",
    "        features.append(data.flatten())\n",
    "        #labels.append(row['0'])\n",
    "        labels.append(filename.split(\"_\")[0].split('\\\\')[-1])\n",
    "\n",
    "    try:\n",
    "        return np.array(features), np.array(labels)\n",
    "    except:\n",
    "        print(features, labels)\n",
    "\n",
    "\n",
    "\n"
   ]
  },
  {
   "cell_type": "code",
   "execution_count": 12,
   "metadata": {
    "id": "tw0AqcaAZOlT"
   },
   "outputs": [],
   "source": [
    "def train_and_evaluate_svm(X_train, y_train, X_test, y_test):\n",
    "    # Create the SVM classifier\n",
    "    svm_classifier = SVC(kernel='rbf')\n",
    "\n",
    "    # Train the classifier\n",
    "    svm_classifier.fit(X_train, y_train)\n",
    "\n",
    "    # Perform prediction on the test set\n",
    "    y_pred = svm_classifier.predict(X_test)\n",
    "\n",
    "    # Evaluate the model\n",
    "    accuracy = accuracy_score(y_test, y_pred)\n",
    "    print(f'SVM accuracy: {accuracy:.3%}')\n",
    "\n",
    "    # Plot the confusion matrix\n",
    "    conf_matrix = confusion_matrix(y_test, y_pred)\n",
    "    sns.heatmap(conf_matrix, annot=True, cmap=\"Blues\")\n",
    "    plt.title('train')\n",
    "    plt.xlabel('pred')\n",
    "    plt.ylabel('actual')\n",
    "    plt.show()"
   ]
  },
  {
   "cell_type": "code",
   "execution_count": 13,
   "metadata": {
    "id": "0XjYICK5ZRzk"
   },
   "outputs": [],
   "source": [
    "def train_and_evaluate_knn(X_train, y_train, X_test, y_test, n_neighbors=3):\n",
    "    # Create the KNN classifier\n",
    "    knn_classifier = KNeighborsClassifier(n_neighbors=n_neighbors)\n",
    "\n",
    "    # Train the classifier\n",
    "    knn_classifier.fit(X_train, y_train)\n",
    "\n",
    "    # Perform prediction on the test set\n",
    "    y_pred = knn_classifier.predict(X_test)\n",
    "\n",
    "    # Evaluate the model\n",
    "    accuracy = accuracy_score(y_test, y_pred)\n",
    "    print(f'KNN accuracy: {accuracy:.3%}')\n",
    "\n",
    "    # Plot the confusion matrix\n",
    "    conf_matrix = confusion_matrix(y_test, y_pred)\n",
    "    sns.heatmap(conf_matrix, annot=True, cmap=\"Blues\")\n",
    "    plt.title('train')\n",
    "    plt.xlabel('pred')\n",
    "    plt.ylabel('actual')\n",
    "    plt.show()"
   ]
  },
  {
   "cell_type": "code",
   "execution_count": 14,
   "metadata": {
    "id": "3QxZLiTfcU1f"
   },
   "outputs": [],
   "source": [
    "# Create the train and test sets\n",
    "X_train, y_train = load_data(train_labels, train_dir)\n",
    "X_test, y_test = load_data(val_labels, val_dir)"
   ]
  },
  {
   "cell_type": "markdown",
   "metadata": {
    "id": "fCArqiNpea_g"
   },
   "source": [
    "### SVM"
   ]
  },
  {
   "cell_type": "code",
   "execution_count": 15,
   "metadata": {
    "colab": {
     "base_uri": "https://localhost:8080/",
     "height": 490
    },
    "id": "ouNXFlddZhuq",
    "outputId": "c3bd5019-4660-41d2-b486-457490630ff6"
   },
   "outputs": [
    {
     "name": "stdout",
     "output_type": "stream",
     "text": [
      "SVM accuracy: 80.000%\n"
     ]
    },
    {
     "data": {
      "image/png": "[encoded data removed]",
      "text/plain": [
       "<Figure size 640x480 with 2 Axes>"
      ]
     },
     "metadata": {},
     "output_type": "display_data"
    }
   ],
   "source": [
    "# Perform training and testing with SVM\n",
    "train_and_evaluate_svm(X_train, y_train, X_test, y_test)"
   ]
  },
  {
   "cell_type": "markdown",
   "metadata": {
    "id": "Zs2HHWHMecSp"
   },
   "source": [
    "### KNN"
   ]
  },
  {
   "cell_type": "code",
   "execution_count": 16,
   "metadata": {
    "colab": {
     "base_uri": "https://localhost:8080/",
     "height": 490
    },
    "id": "qlbZhZhaZkuD",
    "outputId": "8dcfc1d9-e8a9-4191-a39a-50bc8ea3f3a6"
   },
   "outputs": [
    {
     "name": "stdout",
     "output_type": "stream",
     "text": [
      "KNN accuracy: 72.308%\n"
     ]
    },
    {
     "data": {
      "image/png": "[encoded data removed]",
      "text/plain": [
       "<Figure size 640x480 with 2 Axes>"
      ]
     },
     "metadata": {},
     "output_type": "display_data"
    }
   ],
   "source": [
    "# Perform training and testing with KNN\n",
    "train_and_evaluate_knn(X_train, y_train, X_test, y_test)"
   ]
  }
 ],
 "metadata": {
  "colab": {
   "provenance": []
  },
  "kernelspec": {
   "display_name": "base",
   "language": "python",
   "name": "python3"
  },
  "language_info": {
   "codemirror_mode": {
    "name": "ipython",
    "version": 3
   },
   "file_extension": ".py",
   "mimetype": "text/x-python",
   "name": "python",
   "nbconvert_exporter": "python",
   "pygments_lexer": "ipython3",
   "version": "3.12.3"
  }
 },
 "nbformat": 4,
 "nbformat_minor": 0
}
